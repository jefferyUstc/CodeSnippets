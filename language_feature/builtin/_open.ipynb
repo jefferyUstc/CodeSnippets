{
 "cells": [
  {
   "cell_type": "markdown",
   "metadata": {},
   "source": [
    "# Open method in Python\n",
    "\n",
    "这里主要探讨open函数的各种模式，包括 `r`, `r+`, `rt`, `rb`, `w`, `w+`, `wt`, `wb`, `a`, `a+`"
   ]
  },
  {
   "cell_type": "code",
   "execution_count": 72,
   "metadata": {},
   "outputs": [
    {
     "data": {
      "text/plain": [
       "'utf-8'"
      ]
     },
     "execution_count": 72,
     "metadata": {},
     "output_type": "execute_result"
    }
   ],
   "source": [
    "from IPython.core.interactiveshell import InteractiveShell\n",
    "InteractiveShell.ast_node_interactivity = \"all\"\n",
    "\n",
    "from os import getcwd\n",
    "from os.path import join\n",
    "import sys\n",
    "\n",
    "current_dir = getcwd()\n",
    "sys.getdefaultencoding()"
   ]
  },
  {
   "cell_type": "markdown",
   "metadata": {},
   "source": [
    "## 区别和联系\n",
    "\n",
    "\n",
    "|      | 可读 | 可写        | 能否新建文件 |\n",
    "| ---- | ---- | ----------- | ------------ |\n",
    "| `r`  | Y    | N           | N            |\n",
    "| `r+` | Y    | Y（覆盖式） | N            |\n",
    "| `rb` | Y    | N           | N            |\n",
    "| `rt` | Y    | N           | N            |\n",
    "| `w`  | N    | Y（覆盖式） | Y            |\n",
    "| `w+` | Y    | Y（覆盖式） | Y            |\n",
    "| `wb` | N    | Y（覆盖式） | Y            |\n",
    "| `wt` | N    | Y（覆盖式） | Y            |\n",
    "| `a`  | N    | Y（附加式） | Y            |\n",
    "| `a+` | Y    | Y（附加式） | Y            |\n",
    "\n",
    "以下几点需要注意：\n",
    " * `rt`模式下，在读取文本时会自动把`\\r\\n`转换成`\\n`"
   ]
  },
  {
   "cell_type": "markdown",
   "metadata": {},
   "source": [
    "## 例子"
   ]
  },
  {
   "cell_type": "code",
   "execution_count": 58,
   "metadata": {},
   "outputs": [],
   "source": [
    "# 定义一个快捷方法\n",
    "def file_read(file, mode='rb'):\n",
    "    return open(file, mode).read()"
   ]
  },
  {
   "cell_type": "markdown",
   "metadata": {},
   "source": [
    "### `rt`"
   ]
  },
  {
   "cell_type": "code",
   "execution_count": 73,
   "metadata": {},
   "outputs": [
    {
     "data": {
      "text/plain": [
       "4"
      ]
     },
     "execution_count": 73,
     "metadata": {},
     "output_type": "execute_result"
    },
    {
     "data": {
      "text/plain": [
       "'99\\n'"
      ]
     },
     "execution_count": 73,
     "metadata": {},
     "output_type": "execute_result"
    },
    {
     "data": {
      "text/plain": [
       "'99\\r\\n'"
      ]
     },
     "execution_count": 73,
     "metadata": {},
     "output_type": "execute_result"
    }
   ],
   "source": [
    "with open(join(current_dir, 'tmp.txt'), 'w') as f:\n",
    "    f.write('99\\r\\n')\n",
    "file_read(join(current_dir, 'tmp.txt'),'rt')  # 在Unix和Windows中换行符是不一样的(分别是 \\n 和 \\r\\n )\n",
    "\n",
    "# 默认情况下，在读取文本的时候，Python可以识别所有的普通换行符并将其转换为单个 \\n 字符。 类似的，在输出时会将换行符 \\n 转换为系统默认的换行符。 如果你不希望这种默认的处理方式，可以给 open() 函数传入参数 newline=''\n",
    "open(join(current_dir, 'tmp.txt'), 'rt', newline='').read() "
   ]
  },
  {
   "cell_type": "markdown",
   "metadata": {},
   "source": [
    "### `a+`"
   ]
  },
  {
   "cell_type": "code",
   "execution_count": 66,
   "metadata": {},
   "outputs": [
    {
     "data": {
      "text/plain": [
       "5"
      ]
     },
     "execution_count": 66,
     "metadata": {},
     "output_type": "execute_result"
    },
    {
     "data": {
      "text/plain": [
       "''"
      ]
     },
     "execution_count": 66,
     "metadata": {},
     "output_type": "execute_result"
    }
   ],
   "source": [
    "f = open(join(current_dir, 'tmp2.txt'), 'a+')\n",
    "f.write('8888\\n')\n",
    "f.read()"
   ]
  },
  {
   "cell_type": "markdown",
   "metadata": {},
   "source": [
    "你会发现上面代码，`f.read()`读取到空字符串，明明刚写完`8888\\n`到文件，怎么会没有内容呢？其实也很简单，因为是`append`模式，指针处于最后，可以通过`f.tell`查看指针位置"
   ]
  },
  {
   "cell_type": "code",
   "execution_count": 67,
   "metadata": {},
   "outputs": [
    {
     "data": {
      "text/plain": [
       "10"
      ]
     },
     "execution_count": 67,
     "metadata": {},
     "output_type": "execute_result"
    }
   ],
   "source": [
    "f.tell()  # 指针的位置在第几个字符"
   ]
  },
  {
   "cell_type": "code",
   "execution_count": 70,
   "metadata": {},
   "outputs": [
    {
     "data": {
      "text/plain": [
       "0"
      ]
     },
     "execution_count": 70,
     "metadata": {},
     "output_type": "execute_result"
    },
    {
     "data": {
      "text/plain": [
       "'8888\\n8888\\n'"
      ]
     },
     "execution_count": 70,
     "metadata": {},
     "output_type": "execute_result"
    }
   ],
   "source": [
    "f.seek(0)  # 回到起始位置\n",
    "f.read()\n",
    "f.close()"
   ]
  }
 ],
 "metadata": {
  "kernelspec": {
   "display_name": "Python 3",
   "language": "python",
   "name": "python3"
  },
  "language_info": {
   "codemirror_mode": {
    "name": "ipython",
    "version": 3
   },
   "file_extension": ".py",
   "mimetype": "text/x-python",
   "name": "python",
   "nbconvert_exporter": "python",
   "pygments_lexer": "ipython3",
   "version": "3.6.8"
  }
 },
 "nbformat": 4,
 "nbformat_minor": 4
}
