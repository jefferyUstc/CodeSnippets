{
 "cells": [
  {
   "cell_type": "markdown",
   "metadata": {},
   "source": [
    "# Python shallow and deep copy\n"
   ]
  },
  {
   "cell_type": "code",
   "execution_count": 1,
   "metadata": {},
   "outputs": [],
   "source": [
    "from copy import copy, deepcopy, Error as Copy_Error"
   ]
  },
  {
   "cell_type": "code",
   "execution_count": 31,
   "metadata": {},
   "outputs": [
    {
     "name": "stdout",
     "output_type": "stream",
     "text": [
      "id(a)->>> 4514474728\n",
      "赋值：id(b)->>> 4514474728\n",
      "浅拷贝：id(c)->>> 4514474728\n",
      "深拷贝：id(d)->>> 4514474728\n"
     ]
    }
   ],
   "source": [
    "# Python内不可变对象的内存管理方式是引用计数。因此，我们在谈论拷贝时，其实谈论的主要特点都是基于可变对象的。\n",
    "# 因为我们这里操作的是不可变对象，Python 用引用计数的方式管理它们，所以 Python 不会对值相同的不可变对象，申请单独的内存空间。只会记录它的引用次数\n",
    "import copy\n",
    "\n",
    "a = \"hh\"\n",
    "b = a\n",
    "c = copy.copy(a)\n",
    "d = copy.deepcopy(a)\n",
    "print(\"id(a)->>>\", id(b))\n",
    "print(\"赋值：id(b)->>>\", id(b))\n",
    "print(\"浅拷贝：id(c)->>>\", id(c))\n",
    "print(\"深拷贝：id(d)->>>\", id(c))"
   ]
  },
  {
   "cell_type": "code",
   "execution_count": 19,
   "metadata": {},
   "outputs": [],
   "source": [
    "# 赋值\n",
    "x = [1, 2, 3]\n",
    "xx = x\n",
    "assert xx is x, 'xx and x should be the same'\n",
    "assert id(xx) == id(x), 'xx and x should be the same'\n",
    "\n",
    "xxx = [[1,2,3],[1,2,3]]\n",
    "xxxx = xxx\n",
    "assert xxx is xxxx, 'xxx and xxxx should be the same'\n",
    "assert id(xxx) == id(xxxx), 'xxx and xxxx should be the same'\n",
    "\n",
    "num = 3\n",
    "num_1 = num\n",
    "assert num is num_1, \"num is num_1\""
   ]
  },
  {
   "cell_type": "code",
   "execution_count": 14,
   "metadata": {},
   "outputs": [],
   "source": [
    "# 嵌套子对象没有子对象的拷贝\n",
    "a = [1, 2, 3]\n",
    "b = copy(a)\n",
    "assert a is not b, 'object a is not refered to object b, actually '\n",
    "assert a[0] is b[0], 'a[0] is b[0]'\n",
    "\n",
    "c = deepcopy(a)\n",
    "assert a is not c, 'object a is not refered to object b, actually '\n",
    "assert a[0] is c[0], 'a[0] is b[0]'"
   ]
  },
  {
   "cell_type": "code",
   "execution_count": 17,
   "metadata": {},
   "outputs": [],
   "source": [
    "# 嵌套子对象有子对象的拷贝\n",
    "d = [[1,2,3],[1,2,3]]\n",
    "e = copy(d)\n",
    "assert e is not d, 'object e is not refered to object d, actually '\n",
    "assert a[0] is  b[0], 'a[0] is b[0]'\n",
    "\n",
    "f = deepcopy(d)\n",
    "assert f is not d, 'object e is not refered to object d, actually '\n",
    "assert f[0] is not d[0], 'a[0] is not b[0]'"
   ]
  },
  {
   "cell_type": "markdown",
   "metadata": {},
   "source": [
    "Summary:\n",
    "        1、赋值 赋值是对对象地址的引用，不用开辟新的内存地址；\n",
    "        2、浅拷贝 浅拷贝和深拷贝的不同仅仅是对组合对象来说，所谓的组合对象就是包含了其它对象的对象，如列表，类实例。\n",
    "而对于数字、字符串以及其它“原子”类型，没有拷贝一说，产生的都是原对象的引用。\n",
    "        3、浅拷贝和深拷贝 都会拷贝'外壳',但是'外壳'里面的对象如果有还有子对象，那么浅拷贝将拷贝其地址引用，深拷贝则会拷贝；如果'外壳'里面的对象没有子对象，深拷贝、浅拷贝都会进行真实的拷贝"
   ]
  },
  {
   "cell_type": "code",
   "execution_count": 28,
   "metadata": {},
   "outputs": [
    {
     "name": "stdout",
     "output_type": "stream",
     "text": [
      "[1, 2, [8, 2]]\n",
      "[1, 2, [1, 2]]\n"
     ]
    }
   ],
   "source": [
    "list1 = [1,2,[1,2]]\n",
    "list2 = deepcopy(list1)\n",
    "list1[2][0] = 8\n",
    "\n",
    "print(list1)\n",
    "print(list2)  # 这时改变list1 不会影响list2"
   ]
  },
  {
   "cell_type": "code",
   "execution_count": 30,
   "metadata": {},
   "outputs": [
    {
     "name": "stdout",
     "output_type": "stream",
     "text": [
      "[1, 2, [9, 9]]\n",
      "[1, 2, [9, 9]]\n",
      "[1, 2, [88, 99]]\n",
      "[1, 2, [9, 9]]\n"
     ]
    }
   ],
   "source": [
    "list3 = copy(list1)\n",
    "list1[2][0] = 9  \n",
    "list3[2][1] = 9\n",
    "print(list1)\n",
    "print(list3)  # 这时list1 和 list3 关于第3个元素的改变会相互影响\n",
    "# 但是，这种情况不会影响,因为相当于在内存中新开辟了一个内存存放[88,99]\n",
    "list1[2] = [88,99]\n",
    "print(list1)\n",
    "print(list3)"
   ]
  }
 ],
 "metadata": {
  "kernelspec": {
   "display_name": "Python 3",
   "language": "python",
   "name": "python3"
  },
  "language_info": {
   "codemirror_mode": {
    "name": "ipython",
    "version": 3
   },
   "file_extension": ".py",
   "mimetype": "text/x-python",
   "name": "python",
   "nbconvert_exporter": "python",
   "pygments_lexer": "ipython3",
   "version": "3.7.2"
  }
 },
 "nbformat": 4,
 "nbformat_minor": 2
}
