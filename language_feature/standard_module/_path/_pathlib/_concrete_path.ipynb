{
 "cells": [
  {
   "cell_type": "markdown",
   "metadata": {},
   "source": [
    "# Concrete paths\n",
    "Concrete paths are subclasses of the pure path classes. In addition to operations provided by the latter, they also provide methods to do system calls on path objects"
   ]
  },
  {
   "cell_type": "code",
   "execution_count": 71,
   "metadata": {},
   "outputs": [
    {
     "data": {
      "text/plain": [
       "True"
      ]
     },
     "execution_count": 71,
     "metadata": {},
     "output_type": "execute_result"
    },
    {
     "data": {
      "text/plain": [
       "False"
      ]
     },
     "execution_count": 71,
     "metadata": {},
     "output_type": "execute_result"
    },
    {
     "data": {
      "text/plain": [
       "True"
      ]
     },
     "execution_count": 71,
     "metadata": {},
     "output_type": "execute_result"
    }
   ],
   "source": [
    "from pathlib import PosixPath, Path\n",
    "p1 = Path('/home/liunianping/workspace/projects/a.txt')\n",
    "p2 = Path('/home/liunianping/workspace/projects/blog/_path/_pathlib/_first_sight.ipynb')\n",
    "p3 = Path('~/workspace/projects/blog/_path/_pathlib/_first_sight.ipynb')"
   ]
  },
  {
   "cell_type": "code",
   "execution_count": 78,
   "metadata": {},
   "outputs": [],
   "source": [
    "from IPython.core.interactiveshell import InteractiveShell\n",
    "InteractiveShell.ast_node_interactivity = \"all\""
   ]
  },
  {
   "cell_type": "markdown",
   "metadata": {},
   "source": [
    "## PartI- basic system call"
   ]
  },
  {
   "cell_type": "code",
   "execution_count": 25,
   "metadata": {},
   "outputs": [
    {
     "data": {
      "text/plain": [
       "(PosixPath('/home/liunianping/workspace/projects'),\n",
       " PosixPath('/home/liunianping'))"
      ]
     },
     "execution_count": 25,
     "metadata": {},
     "output_type": "execute_result"
    }
   ],
   "source": [
    "# 类方法\n",
    "Path.cwd(), Path.home()"
   ]
  },
  {
   "cell_type": "code",
   "execution_count": 66,
   "metadata": {},
   "outputs": [
    {
     "data": {
      "text/plain": [
       "os.stat_result(st_mode=33188, st_ino=78278931909, st_dev=64777, st_nlink=1, st_uid=1042, st_gid=110, st_size=5760, st_atime=1570934665, st_mtime=1570934665, st_ctime=1570934665)"
      ]
     },
     "execution_count": 66,
     "metadata": {},
     "output_type": "execute_result"
    },
    {
     "data": {
      "text/plain": [
       "PosixPath('/home/liunianping/workspace/projects/blog/_path/_pathlib/_first_sight.ipynb')"
      ]
     },
     "execution_count": 66,
     "metadata": {},
     "output_type": "execute_result"
    },
    {
     "data": {
      "text/plain": [
       "[PosixPath('/home/liunianping/workspace/projects/blog/_path/_pathlib/_first_sight.ipynb'),\n",
       " PosixPath('/home/liunianping/workspace/projects/blog/_path/_pathlib/_concrete_path.ipynb'),\n",
       " PosixPath('/home/liunianping/workspace/projects/blog/_path/_pathlib/_pure_path.ipynb')]"
      ]
     },
     "execution_count": 66,
     "metadata": {},
     "output_type": "execute_result"
    },
    {
     "name": "stdout",
     "output_type": "stream",
     "text": [
      "********************\n"
     ]
    },
    {
     "data": {
      "text/plain": [
       "[PosixPath('/home/liunianping/workspace/projects/blog/_path/os_path.ipynb'),\n",
       " PosixPath('/home/liunianping/workspace/projects/blog/_path/.ipynb_checkpoints/os_path-checkpoint.ipynb'),\n",
       " PosixPath('/home/liunianping/workspace/projects/blog/_path/_pathlib/_first_sight.ipynb'),\n",
       " PosixPath('/home/liunianping/workspace/projects/blog/_path/_pathlib/_concrete_path.ipynb'),\n",
       " PosixPath('/home/liunianping/workspace/projects/blog/_path/_pathlib/_pure_path.ipynb'),\n",
       " PosixPath('/home/liunianping/workspace/projects/blog/_path/_pathlib/.ipynb_checkpoints/_first_sight-checkpoint.ipynb'),\n",
       " PosixPath('/home/liunianping/workspace/projects/blog/_path/_pathlib/.ipynb_checkpoints/_concrete_path-checkpoint.ipynb'),\n",
       " PosixPath('/home/liunianping/workspace/projects/blog/_path/_pathlib/.ipynb_checkpoints/_pure_path-checkpoint.ipynb')]"
      ]
     },
     "execution_count": 66,
     "metadata": {},
     "output_type": "execute_result"
    },
    {
     "name": "stdout",
     "output_type": "stream",
     "text": [
      "********************\n"
     ]
    },
    {
     "data": {
      "text/plain": [
       "[PosixPath('/home/liunianping/workspace/projects/blog/_path/os_path.ipynb'),\n",
       " PosixPath('/home/liunianping/workspace/projects/blog/_path/.ipynb_checkpoints/os_path-checkpoint.ipynb'),\n",
       " PosixPath('/home/liunianping/workspace/projects/blog/_path/_pathlib/_first_sight.ipynb'),\n",
       " PosixPath('/home/liunianping/workspace/projects/blog/_path/_pathlib/_concrete_path.ipynb'),\n",
       " PosixPath('/home/liunianping/workspace/projects/blog/_path/_pathlib/_pure_path.ipynb'),\n",
       " PosixPath('/home/liunianping/workspace/projects/blog/_path/_pathlib/.ipynb_checkpoints/_first_sight-checkpoint.ipynb'),\n",
       " PosixPath('/home/liunianping/workspace/projects/blog/_path/_pathlib/.ipynb_checkpoints/_concrete_path-checkpoint.ipynb'),\n",
       " PosixPath('/home/liunianping/workspace/projects/blog/_path/_pathlib/.ipynb_checkpoints/_pure_path-checkpoint.ipynb')]"
      ]
     },
     "execution_count": 66,
     "metadata": {},
     "output_type": "execute_result"
    },
    {
     "name": "stdout",
     "output_type": "stream",
     "text": [
      "********************\n"
     ]
    },
    {
     "data": {
      "text/plain": [
       "(False, True)"
      ]
     },
     "execution_count": 66,
     "metadata": {},
     "output_type": "execute_result"
    },
    {
     "data": {
      "text/plain": [
       "(True, False)"
      ]
     },
     "execution_count": 66,
     "metadata": {},
     "output_type": "execute_result"
    },
    {
     "name": "stdout",
     "output_type": "stream",
     "text": [
      "****************************************\n",
      "/home/liunianping/workspace/projects/blog/_path/_pathlib/.ipynb_checkpoints\n",
      "/home/liunianping/workspace/projects/blog/_path/_pathlib/_first_sight.ipynb\n",
      "/home/liunianping/workspace/projects/blog/_path/_pathlib/_concrete_path.ipynb\n",
      "/home/liunianping/workspace/projects/blog/_path/_pathlib/_pure_path.ipynb\n"
     ]
    }
   ],
   "source": [
    "# 实例方法\n",
    "if p2.exists():  # exists和os.path.exists一样，如果是一个无效符号链接，会返回False\n",
    "    p2.stat()\n",
    "\n",
    "p2.expanduser()\n",
    "list(p2.parent.glob('*.ipynb'))\n",
    "print('*'*20)\n",
    "list(p2.parent.parent.glob('**/*.ipynb')) # The “**” pattern means “this directory and all subdirectories, recursively”\n",
    "print('*'*20)\n",
    "list(p2.parent.parent.rglob('*.ipynb'))  # This is like calling Path.glob() with “**/” added in front of the given relative pattern\n",
    "print('*'*20)\n",
    "p2.is_dir(), p2.parent.is_dir()\n",
    "p2.is_file(), p2.parent.is_file()\n",
    "\n",
    "print('*'*40)\n",
    "for child in p2.parent.iterdir():\n",
    "    print(child)"
   ]
  },
  {
   "cell_type": "code",
   "execution_count": 65,
   "metadata": {},
   "outputs": [
    {
     "data": {
      "text/plain": [
       "(os.stat_result(st_mode=33188, st_ino=78278931909, st_dev=64777, st_nlink=1, st_uid=1042, st_gid=110, st_size=5760, st_atime=1570934665, st_mtime=1570934665, st_ctime=1570934665),\n",
       " os.stat_result(st_mode=33188, st_ino=78278931909, st_dev=64777, st_nlink=1, st_uid=1042, st_gid=110, st_size=5760, st_atime=1570934665, st_mtime=1570934665, st_ctime=1570934665))"
      ]
     },
     "execution_count": 65,
     "metadata": {},
     "output_type": "execute_result"
    },
    {
     "data": {
      "text/plain": [
       "('qu_lab', 'liunianping')"
      ]
     },
     "execution_count": 65,
     "metadata": {},
     "output_type": "execute_result"
    },
    {
     "data": {
      "text/plain": [
       "(False, False, False, False, False)"
      ]
     },
     "execution_count": 65,
     "metadata": {},
     "output_type": "execute_result"
    },
    {
     "data": {
      "text/plain": [
       "PosixPath('/home/liunianping/workspace/projects')"
      ]
     },
     "execution_count": 65,
     "metadata": {},
     "output_type": "execute_result"
    }
   ],
   "source": [
    "# 其他实例方法\n",
    "# p2.chmod(), p2.lchmod() # 谨慎使用\n",
    "p2.stat(), p2.lstat()\n",
    "p2.group(), p2.owner()\n",
    "# p2.is_mount()  # Return True if the path is a mount point, new in 3.7\n",
    "p2.is_symlink(), p2.is_socket(), p2.is_fifo(), p2.is_block_device(), p2.is_char_device()\n",
    "Path('.').resolve(strict=False)"
   ]
  },
  {
   "cell_type": "code",
   "execution_count": 73,
   "metadata": {},
   "outputs": [
    {
     "data": {
      "text/plain": [
       "True"
      ]
     },
     "execution_count": 73,
     "metadata": {},
     "output_type": "execute_result"
    }
   ],
   "source": [
    "# 文件夹创建、重命名、删除\n",
    "tmp_p = Path.cwd() / 'tmp_dir'\n",
    "tmp_p_2 = Path.cwd() / 'tmp_dir_rename'\n",
    "tmp_p.mkdir(parents=False, exist_ok=True)\n",
    "# rename replace即可以是文件也可以是文件夹\n",
    "tmp_p.rename(tmp_p_2)\n",
    "tmp_p_2.replace(tmp_p)\n",
    "tmp_p.rmdir() # dir must be empty\n",
    "p2.samefile(p3.expanduser())  # ？"
   ]
  },
  {
   "cell_type": "code",
   "execution_count": 76,
   "metadata": {},
   "outputs": [],
   "source": [
    "# 符号链接操作\n",
    "p = Path('b.txt')\n",
    "p.symlink_to(target='a.txt', target_is_directory=False)  # 类比os.symlink\n",
    "# p.unlink() # Remove this file or symbolic link. If the path points to a directory, use Path.rmdir() instead."
   ]
  },
  {
   "cell_type": "markdown",
   "metadata": {},
   "source": [
    "以下shell等同上述代码操作：\n",
    "\n",
    "```python\n",
    ">>> touch a.txt && echo '123456' > a.txt\n",
    ">>> ln -s a.txt b.txt  # 为target文件a.txt创建link文件b.txt\n",
    ">>> ll\n",
    "-rw-r--r-- 1 niulianxing q_lab     7 Oct 13 11:33 a.txt\n",
    "lrwxrwxrwx 1 niulianxing q_lab     5 Oct 13 11:34 b.txt -> a.txt\n",
    "```\n"
   ]
  },
  {
   "cell_type": "markdown",
   "metadata": {},
   "source": [
    "## PartII-Write&Read File"
   ]
  },
  {
   "cell_type": "markdown",
   "metadata": {},
   "source": [
    "### `open` function"
   ]
  },
  {
   "cell_type": "code",
   "execution_count": 92,
   "metadata": {},
   "outputs": [
    {
     "data": {
      "text/plain": [
       "<_io.TextIOWrapper name='/home/liunianping/workspace/projects/blog/_path/a.txt' mode='r' encoding='UTF-8'>"
      ]
     },
     "execution_count": 92,
     "metadata": {},
     "output_type": "execute_result"
    },
    {
     "data": {
      "text/plain": [
       "'nihao\\n'"
      ]
     },
     "execution_count": 92,
     "metadata": {},
     "output_type": "execute_result"
    },
    {
     "data": {
      "text/plain": [
       "'woshi\\njeffery\\nxiefei'"
      ]
     },
     "execution_count": 92,
     "metadata": {},
     "output_type": "execute_result"
    },
    {
     "data": {
      "text/plain": [
       "True"
      ]
     },
     "execution_count": 92,
     "metadata": {},
     "output_type": "execute_result"
    }
   ],
   "source": [
    "path = Path('/home/liunianping/workspace/projects/blog/_path/')\n",
    "\n",
    "file = path.joinpath('a.txt')\n",
    "if file.exists():\n",
    "    with file.open(mode='r', buffering=-1, encoding=None, errors=None, newline=None) as f:\n",
    "        f  # 这和builtin 函数 open是一样的效果\n",
    "        f.readline()\n",
    "        f.read()\n",
    "        f.readable()"
   ]
  },
  {
   "cell_type": "markdown",
   "metadata": {},
   "source": [
    "### `readbytes`　`writebytes`　function"
   ]
  },
  {
   "cell_type": "code",
   "execution_count": 99,
   "metadata": {},
   "outputs": [
    {
     "data": {
      "text/plain": [
       "b'\\nxinzengneirong'"
      ]
     },
     "execution_count": 99,
     "metadata": {},
     "output_type": "execute_result"
    },
    {
     "name": "stdout",
     "output_type": "stream",
     "text": [
      "write 15 Bytes content to file\n"
     ]
    }
   ],
   "source": [
    "file.read_bytes()\n",
    "length = file.write_bytes(b'\\nxinzengneirong')  # 覆盖式写入\n",
    "print(f'write {length} Bytes content to file')"
   ]
  },
  {
   "cell_type": "code",
   "execution_count": 104,
   "metadata": {},
   "outputs": [
    {
     "data": {
      "text/plain": [
       "'hh'"
      ]
     },
     "execution_count": 104,
     "metadata": {},
     "output_type": "execute_result"
    },
    {
     "data": {
      "text/plain": [
       "2"
      ]
     },
     "execution_count": 104,
     "metadata": {},
     "output_type": "execute_result"
    },
    {
     "data": {
      "text/plain": [
       "'hh'"
      ]
     },
     "execution_count": 104,
     "metadata": {},
     "output_type": "execute_result"
    }
   ],
   "source": [
    "file.read_text()\n",
    "file.write_text('hh', encoding=None, errors=None)  # 覆盖式写入\n",
    "file.read_text()"
   ]
  }
 ],
 "metadata": {
  "kernelspec": {
   "display_name": "Python 3",
   "language": "python",
   "name": "python3"
  },
  "language_info": {
   "codemirror_mode": {
    "name": "ipython",
    "version": 3
   },
   "file_extension": ".py",
   "mimetype": "text/x-python",
   "name": "python",
   "nbconvert_exporter": "python",
   "pygments_lexer": "ipython3",
   "version": "3.6.8"
  }
 },
 "nbformat": 4,
 "nbformat_minor": 4
}
