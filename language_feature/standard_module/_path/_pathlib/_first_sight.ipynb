{
 "cells": [
  {
   "cell_type": "markdown",
   "metadata": {},
   "source": [
    "## Python pathlib standard library\n",
    "       The aim of this library is to provide a simple hierarchy of classes to handle filesystem paths and the common operations users do over them.\n",
    "\n",
    "<img src=\"https://docs.python.org/3/_images/pathlib-inheritance.png\">"
   ]
  },
  {
   "cell_type": "code",
   "execution_count": 7,
   "metadata": {},
   "outputs": [],
   "source": [
    "from pathlib import Path, PurePath, PurePosixPath,PosixPath\n",
    "from pathlib import PureWindowsPath, WindowsPath"
   ]
  },
  {
   "cell_type": "code",
   "execution_count": 9,
   "metadata": {},
   "outputs": [],
   "source": [
    "from IPython.core.interactiveshell import InteractiveShell\n",
    "InteractiveShell.ast_node_interactivity = \"all\"\n"
   ]
  },
  {
   "cell_type": "markdown",
   "metadata": {},
   "source": [
    " * first, user needs to know, cannot instantiate `WindowsPath` in linux, but `PureWindowsPath`\n",
    "          we may cover detail usage of `PureWindowsPath`, but here we donot"
   ]
  },
  {
   "cell_type": "code",
   "execution_count": 11,
   "metadata": {},
   "outputs": [
    {
     "data": {
      "text/plain": [
       "'posix'"
      ]
     },
     "execution_count": 11,
     "metadata": {},
     "output_type": "execute_result"
    },
    {
     "data": {
      "text/plain": [
       "PureWindowsPath('C:/Users/jeffery')"
      ]
     },
     "execution_count": 11,
     "metadata": {},
     "output_type": "execute_result"
    }
   ],
   "source": [
    "import os\n",
    "os.name\n",
    "# p = WindowsPath()  # ERROR: NotImplementedError: cannot instantiate 'WindowsPath' on your system\n",
    "p = PureWindowsPath('C:\\\\Users\\\\jeffery')\n",
    "p"
   ]
  },
  {
   "cell_type": "markdown",
   "metadata": {},
   "source": [
    " * next, let's start the basic usage of pathlib"
   ]
  },
  {
   "cell_type": "code",
   "execution_count": 21,
   "metadata": {},
   "outputs": [
    {
     "data": {
      "text/plain": [
       "[PosixPath('/home/liunianping/workspace/projects/blog/spwan_process'),\n",
       " PosixPath('/home/liunianping/workspace/projects/blog/_path'),\n",
       " PosixPath('/home/liunianping/workspace/projects/blog/.idea'),\n",
       " PosixPath('/home/liunianping/workspace/projects/blog/functional_programmig')]"
      ]
     },
     "execution_count": 21,
     "metadata": {},
     "output_type": "execute_result"
    }
   ],
   "source": [
    "# 单级搜索文件夹\n",
    "p = Path('/home/liunianping/workspace/projects/blog')\n",
    "[x for x in p.iterdir() if x.is_dir()]"
   ]
  },
  {
   "cell_type": "code",
   "execution_count": 24,
   "metadata": {},
   "outputs": [
    {
     "data": {
      "text/plain": [
       "[PosixPath('/home/liunianping/workspace/projects/blog/spwan_process/_run.py'),\n",
       " PosixPath('/home/liunianping/workspace/projects/blog/spwan_process/_popen.py'),\n",
       " PosixPath('/home/liunianping/workspace/projects/blog/_path/os_path.py'),\n",
       " PosixPath('/home/liunianping/workspace/projects/blog/functional_programmig/_itertools/infinite_iterators.py'),\n",
       " PosixPath('/home/liunianping/workspace/projects/blog/functional_programmig/_itertools/shortest_terminated_iterators.py'),\n",
       " PosixPath('/home/liunianping/workspace/projects/blog/functional_programmig/_itertools/itertools_recipes.py'),\n",
       " PosixPath('/home/liunianping/workspace/projects/blog/functional_programmig/_itertools/combinatoric_iterators.py'),\n",
       " PosixPath('/home/liunianping/workspace/projects/blog/functional_programmig/_functools/fibonacci.py'),\n",
       " PosixPath('/home/liunianping/workspace/projects/blog/functional_programmig/_operator/_attrgetter.py'),\n",
       " PosixPath('/home/liunianping/workspace/projects/blog/functional_programmig/_operator/examples.py')]"
      ]
     },
     "execution_count": 24,
     "metadata": {},
     "output_type": "execute_result"
    }
   ],
   "source": [
    "# 多级搜索.py文件\n",
    "list(p.glob('**/*.py'))"
   ]
  },
  {
   "cell_type": "code",
   "execution_count": 40,
   "metadata": {},
   "outputs": [
    {
     "data": {
      "text/plain": [
       "PosixPath('~/workspace/projects')"
      ]
     },
     "execution_count": 40,
     "metadata": {},
     "output_type": "execute_result"
    },
    {
     "data": {
      "text/plain": [
       "False"
      ]
     },
     "execution_count": 40,
     "metadata": {},
     "output_type": "execute_result"
    },
    {
     "data": {
      "text/plain": [
       "False"
      ]
     },
     "execution_count": 40,
     "metadata": {},
     "output_type": "execute_result"
    }
   ],
   "source": [
    "# 目录操作\n",
    "p = Path('~/workspace')\n",
    "q = p / 'projects'\n",
    "q\n",
    "# 查询path属性\n",
    "q.exists()\n",
    "q.is_dir()"
   ]
  },
  {
   "cell_type": "code",
   "execution_count": 44,
   "metadata": {},
   "outputs": [
    {
     "name": "stdout",
     "output_type": "stream",
     "text": [
      "\"\"\"Entry point for launching an IPython kernel.\n",
      "\n"
     ]
    }
   ],
   "source": [
    "import sys\n",
    "q = Path(sys.argv[0])\n",
    "with q.open('r') as f:\n",
    "    print(f.readline())"
   ]
  }
 ],
 "metadata": {
  "kernelspec": {
   "display_name": "Python 3",
   "language": "python",
   "name": "python3"
  },
  "language_info": {
   "codemirror_mode": {
    "name": "ipython",
    "version": 3
   },
   "file_extension": ".py",
   "mimetype": "text/x-python",
   "name": "python",
   "nbconvert_exporter": "python",
   "pygments_lexer": "ipython3",
   "version": "3.6.8"
  }
 },
 "nbformat": 4,
 "nbformat_minor": 4
}
