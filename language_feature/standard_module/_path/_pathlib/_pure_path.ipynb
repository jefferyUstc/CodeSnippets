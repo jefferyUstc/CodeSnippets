{
 "cells": [
  {
   "cell_type": "markdown",
   "metadata": {},
   "source": [
    "# Pure paths\n",
    "Pure path objects provide path-handling operations which don’t actually access a filesystem. \n",
    "There are three ways to access these classes, which we also call flavours:"
   ]
  },
  {
   "cell_type": "code",
   "execution_count": 7,
   "metadata": {},
   "outputs": [],
   "source": [
    "from pathlib import PurePath, PurePosixPath, PureWindowsPath,Path"
   ]
  },
  {
   "cell_type": "code",
   "execution_count": 9,
   "metadata": {},
   "outputs": [],
   "source": [
    "from IPython.core.interactiveshell import InteractiveShell\n",
    "InteractiveShell.ast_node_interactivity = \"all\""
   ]
  },
  {
   "cell_type": "markdown",
   "metadata": {},
   "source": [
    "## `pathlib.PurePath(*pathsegments)`"
   ]
  },
  {
   "cell_type": "code",
   "execution_count": 11,
   "metadata": {},
   "outputs": [
    {
     "data": {
      "text/plain": [
       "PurePosixPath('foo/some/path/bar')"
      ]
     },
     "execution_count": 11,
     "metadata": {},
     "output_type": "execute_result"
    },
    {
     "data": {
      "text/plain": [
       "PurePosixPath('foo/bar')"
      ]
     },
     "execution_count": 11,
     "metadata": {},
     "output_type": "execute_result"
    },
    {
     "data": {
      "text/plain": [
       "PurePosixPath('foo/bar')"
      ]
     },
     "execution_count": 11,
     "metadata": {},
     "output_type": "execute_result"
    }
   ],
   "source": [
    "PurePath('foo', 'some/path', 'bar')\n",
    "PurePath(Path('foo'), 'bar')  # python3.6开始支持该特性\n",
    "PurePosixPath(PurePath('foo'), 'bar')"
   ]
  },
  {
   "cell_type": "code",
   "execution_count": 13,
   "metadata": {},
   "outputs": [
    {
     "data": {
      "text/plain": [
       "PurePosixPath('/home/liunianping/workspace/projects/..')"
      ]
     },
     "execution_count": 13,
     "metadata": {},
     "output_type": "execute_result"
    }
   ],
   "source": [
    "PurePath('/home/liunianping/workspace/projects/../')  # ?"
   ]
  },
  {
   "cell_type": "markdown",
   "metadata": {},
   "source": [
    "## `pathlib.PurePosixPath(*pathsegments)`"
   ]
  },
  {
   "cell_type": "code",
   "execution_count": 14,
   "metadata": {},
   "outputs": [
    {
     "data": {
      "text/plain": [
       "PurePosixPath('/etc')"
      ]
     },
     "execution_count": 14,
     "metadata": {},
     "output_type": "execute_result"
    }
   ],
   "source": [
    "PurePosixPath('/etc')"
   ]
  },
  {
   "cell_type": "markdown",
   "metadata": {},
   "source": [
    "## `pathlib.PureWindowsPath(*pathsegments)`"
   ]
  },
  {
   "cell_type": "code",
   "execution_count": 15,
   "metadata": {},
   "outputs": [
    {
     "data": {
      "text/plain": [
       "PureWindowsPath('c:/Program Files')"
      ]
     },
     "execution_count": 15,
     "metadata": {},
     "output_type": "execute_result"
    }
   ],
   "source": [
    "PureWindowsPath('c:/Program Files/')"
   ]
  },
  {
   "cell_type": "markdown",
   "metadata": {},
   "source": [
    "## Methods and properties"
   ]
  },
  {
   "cell_type": "code",
   "execution_count": 54,
   "metadata": {},
   "outputs": [],
   "source": [
    "p1 = PurePath('/usr/bin/a.txt')\n",
    "p2 = PurePosixPath('~/workspace/projects/b.tar.gz')\n",
    "p3 = PureWindowsPath('c:/Program Files/')\n",
    "p4 = PureWindowsPath('/Program Files/')"
   ]
  },
  {
   "cell_type": "markdown",
   "metadata": {},
   "source": [
    "### properties"
   ]
  },
  {
   "cell_type": "code",
   "execution_count": 51,
   "metadata": {},
   "outputs": [
    {
     "data": {
      "text/plain": [
       "(('/', 'usr', 'bin', 'a.txt'),\n",
       " ('/', 'home', 'liunianping', 'workspace', 'projects', 'b.tar.gz'),\n",
       " ('c:\\\\', 'Program Files'),\n",
       " ('\\\\', 'Program Files'))"
      ]
     },
     "execution_count": 51,
     "metadata": {},
     "output_type": "execute_result"
    },
    {
     "data": {
      "text/plain": [
       "('', '', 'c:', '')"
      ]
     },
     "execution_count": 51,
     "metadata": {},
     "output_type": "execute_result"
    },
    {
     "data": {
      "text/plain": [
       "('/', '/', '\\\\', '\\\\')"
      ]
     },
     "execution_count": 51,
     "metadata": {},
     "output_type": "execute_result"
    },
    {
     "data": {
      "text/plain": [
       "('/', '/', 'c:\\\\', '\\\\')"
      ]
     },
     "execution_count": 51,
     "metadata": {},
     "output_type": "execute_result"
    },
    {
     "data": {
      "text/plain": [
       "[PurePosixPath('/usr/bin'), PurePosixPath('/usr'), PurePosixPath('/')]"
      ]
     },
     "execution_count": 51,
     "metadata": {},
     "output_type": "execute_result"
    },
    {
     "data": {
      "text/plain": [
       "(PurePosixPath('/usr/bin'), PurePosixPath('/'), PurePosixPath('.'))"
      ]
     },
     "execution_count": 51,
     "metadata": {},
     "output_type": "execute_result"
    },
    {
     "data": {
      "text/plain": [
       "('c:\\\\Program Files', 'c:/Program Files')"
      ]
     },
     "execution_count": 51,
     "metadata": {},
     "output_type": "execute_result"
    }
   ],
   "source": [
    "p1.parts, p2.parts, p3.parts, p4.parts  # # To access the individual “parts” (components) of a path\n",
    "\n",
    "p1.drive, p2.drive, p3.drive, p4.drive\n",
    "\n",
    "p1.root, p2.root, p3.root, p4.root\n",
    "\n",
    "p1.anchor, p2.anchor, p3.anchor, p4.anchor  # The concatenation of the drive and roo"
   ]
  },
  {
   "cell_type": "code",
   "execution_count": 68,
   "metadata": {},
   "outputs": [
    {
     "data": {
      "text/plain": [
       "[PurePosixPath('/usr/bin'), PurePosixPath('/usr'), PurePosixPath('/')]"
      ]
     },
     "execution_count": 68,
     "metadata": {},
     "output_type": "execute_result"
    },
    {
     "data": {
      "text/plain": [
       "(PurePosixPath('/usr/bin'), PurePosixPath('/'), PurePosixPath('.'))"
      ]
     },
     "execution_count": 68,
     "metadata": {},
     "output_type": "execute_result"
    },
    {
     "data": {
      "text/plain": [
       "('a.txt', 'b.tar.gz')"
      ]
     },
     "execution_count": 68,
     "metadata": {},
     "output_type": "execute_result"
    },
    {
     "data": {
      "text/plain": [
       "('.txt', '.gz')"
      ]
     },
     "execution_count": 68,
     "metadata": {},
     "output_type": "execute_result"
    },
    {
     "data": {
      "text/plain": [
       "(['.txt'], ['.tar', '.gz'])"
      ]
     },
     "execution_count": 68,
     "metadata": {},
     "output_type": "execute_result"
    },
    {
     "data": {
      "text/plain": [
       "('a', 'b.tar')"
      ]
     },
     "execution_count": 68,
     "metadata": {},
     "output_type": "execute_result"
    }
   ],
   "source": [
    "# 这些属性是比较实用的属性\n",
    "list(p1.parents)  # it's a generator\n",
    "p1.parent, PurePosixPath('/').parent, PurePosixPath('.').parent\n",
    "p1.name, p2.name\n",
    "p1.suffix, p2.suffix\n",
    "p1.suffixes, p2.suffixes\n",
    "p1.stem, p2.stem  # The final path component, without its suffix"
   ]
  },
  {
   "cell_type": "markdown",
   "metadata": {},
   "source": [
    "### methods"
   ]
  },
  {
   "cell_type": "code",
   "execution_count": 56,
   "metadata": {},
   "outputs": [
    {
     "data": {
      "text/plain": [
       "('c:\\\\Program Files', 'c:/Program Files')"
      ]
     },
     "execution_count": 56,
     "metadata": {},
     "output_type": "execute_result"
    },
    {
     "data": {
      "text/plain": [
       "('/var/www/html', 'file:///var/www/html')"
      ]
     },
     "execution_count": 56,
     "metadata": {},
     "output_type": "execute_result"
    },
    {
     "data": {
      "text/plain": [
       "(True, False)"
      ]
     },
     "execution_count": 56,
     "metadata": {},
     "output_type": "execute_result"
    }
   ],
   "source": [
    "str(p3), p3.as_posix()\n",
    "str(PurePosixPath('/var/www/html/')), PurePosixPath('/var/www/html/').as_uri()\n",
    "PureWindowsPath('nul').is_reserved(), PurePosixPath('nul').is_reserved()  # always false in unix"
   ]
  },
  {
   "cell_type": "code",
   "execution_count": 66,
   "metadata": {},
   "outputs": [
    {
     "data": {
      "text/plain": [
       "(PureWindowsPath('c:/Program Files/c.txt'),\n",
       " PureWindowsPath('/Program Files/d.txt'))"
      ]
     },
     "execution_count": 66,
     "metadata": {},
     "output_type": "execute_result"
    }
   ],
   "source": [
    "# 以下是一些比较实用的方法\n",
    "p3.joinpath('c.txt'), p4.joinpath(PurePath('d.txt'))"
   ]
  },
  {
   "cell_type": "code",
   "execution_count": 76,
   "metadata": {},
   "outputs": [
    {
     "data": {
      "text/plain": [
       "(True, False, True, False)"
      ]
     },
     "execution_count": 76,
     "metadata": {},
     "output_type": "execute_result"
    },
    {
     "data": {
      "text/plain": [
       "(True, False, True, False)"
      ]
     },
     "execution_count": 76,
     "metadata": {},
     "output_type": "execute_result"
    },
    {
     "data": {
      "text/plain": [
       "True"
      ]
     },
     "execution_count": 76,
     "metadata": {},
     "output_type": "execute_result"
    },
    {
     "data": {
      "text/plain": [
       "(PurePosixPath('usr/bin/a.txt'), PurePosixPath('a.txt'))"
      ]
     },
     "execution_count": 76,
     "metadata": {},
     "output_type": "execute_result"
    },
    {
     "data": {
      "text/plain": [
       "PurePosixPath('/usr/bin/setup.py')"
      ]
     },
     "execution_count": 76,
     "metadata": {},
     "output_type": "execute_result"
    },
    {
     "data": {
      "text/plain": [
       "PurePosixPath('/usr/bin/a.bed')"
      ]
     },
     "execution_count": 76,
     "metadata": {},
     "output_type": "execute_result"
    }
   ],
   "source": [
    "# 可能会使用的方法\n",
    "p1.is_absolute(), p2.is_absolute(), p3.is_absolute(), p4.is_absolute() # A path is considered absolute if it has both a root and (if the flavour allows) a drive\n",
    "PurePath('a/b.py').match('*.py'), PurePath('a/b.py').match('*.PY'), PurePath('/a/b/c.py').match('b/*.py'), PurePath('/a/b/c.py').match('a/*.py')  # 大小写敏感\n",
    "PureWindowsPath('b.py').match('*.PY')  # 大小写不敏感\n",
    "p1.relative_to('/'), p1.relative_to('/usr/bin/')\n",
    "p1.with_name('setup.py') # Return a new path with the name changed. If the original path doesn’t have a name, ValueError is raised\n",
    "p1.with_suffix('.bed')  # If the original path doesn’t have a suffix, the new suffix is appended instead. If the suffix is an empty string, the original suffix is removed\n"
   ]
  }
 ],
 "metadata": {
  "kernelspec": {
   "display_name": "Python 3",
   "language": "python",
   "name": "python3"
  },
  "language_info": {
   "codemirror_mode": {
    "name": "ipython",
    "version": 3
   },
   "file_extension": ".py",
   "mimetype": "text/x-python",
   "name": "python",
   "nbconvert_exporter": "python",
   "pygments_lexer": "ipython3",
   "version": "3.6.8"
  }
 },
 "nbformat": 4,
 "nbformat_minor": 4
}
