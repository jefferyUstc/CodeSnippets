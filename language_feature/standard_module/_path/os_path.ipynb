{
 "cells": [
  {
   "cell_type": "markdown",
   "metadata": {
    "jupyter": {
     "outputs_hidden": true
    }
   },
   "source": [
    "## Python 标准库 os.path 代码实例\n",
    "\n",
    "    但是，这里并不是非常关注windows的效果，本代码环境 python3.6, centos 7"
   ]
  },
  {
   "cell_type": "raw",
   "metadata": {},
   "source": [
    "from os.path import *\n",
    "\n",
    "all_methods = ['normcase', 'isabs', 'join', 'splitdrive', 'split', 'splitext', 'basename', 'dirname', 'commonprefix',\n",
    "               'getsize', 'getmtime', 'getatime', 'getctime', 'islink', 'exists', 'lexists', 'isdir', 'isfile',\n",
    "               'ismount', 'expanduser', 'expandvars', 'normpath', 'abspath', 'samefile', 'sameopenfile', 'samestat',\n",
    "               'curdir', 'pardir', 'sep', 'pathsep', 'defpath', 'altsep', 'extsep', 'devnull', 'realpath',\n",
    "               'supports_unicode_filenames', 'relpath', 'commonpath']\n",
    "\n",
    "path1 = './Setup.py'\n",
    "path2 = '~/workspace/projects'\n",
    "path3 = '/home/jeffery/a.txt'\n",
    "path4 = 'C:\\\\Users\\\\Administrator\\\\b.txt'\n",
    "path5 = '/home/xiefei'"
   ]
  },
  {
   "cell_type": "code",
   "execution_count": null,
   "metadata": {},
   "outputs": [],
   "source": [
    "from IPython.core.interactiveshell import InteractiveShell\n",
    "InteractiveShell.ast_node_interactivity = \"all\""
   ]
  },
  {
   "cell_type": "code",
   "execution_count": null,
   "metadata": {},
   "outputs": [],
   "source": [
    "# --------------------------norm*-------------------------\n",
    "normcase(path4)  # 在Linux下，该函数会原样返回path，在Windows平台上会将路径中所有的字符转换为小写，并将所有斜杠转换为反斜杠，同时\n",
    "normpath(path4)  # 将路径规范化"
   ]
  },
  {
   "cell_type": "code",
   "execution_count": null,
   "metadata": {},
   "outputs": [],
   "source": [
    "# --------------------------join-------------------------\n",
    "join(path2, 'a.txt')"
   ]
  },
  {
   "cell_type": "code",
   "execution_count": null,
   "metadata": {},
   "outputs": [],
   "source": [
    "# --------------------------split*-------------------------\n",
    "print(splitdrive(path4))  # 请在windows上执行\n",
    "print(split(path3), splitext(path3))  # 分别用于返回目录路径和文件名的元组 | 用于返回文件夹文件名和扩展名元组\n",
    "# 类似效果的有：\n",
    "print(basename(path3), dirname(path3))"
   ]
  },
  {
   "cell_type": "code",
   "execution_count": null,
   "metadata": {},
   "outputs": [],
   "source": [
    "# --------------------------common*-------------------------\n",
    "# 都是返回共同路径，但是前者是字符串操作，后者是路径操作\n",
    "commonprefix(['/usr/lib', '/usr/local/lib'])\n",
    "commonpath(['/usr/lib', '/usr/local/lib']) "
   ]
  },
  {
   "cell_type": "code",
   "execution_count": null,
   "metadata": {},
   "outputs": [],
   "source": [
    "# --------------------------get*-------------------------\n",
    "import sys\n",
    "getsize(sys.argv[0]) # 获取当前文件夹的大小，注意jupyter不存在变量`__file__`\n",
    "getmtime(sys.argv[0]), getatime(sys.argv[0]), getmtime(sys.argv[0])  # 获取文件最近的modification、access、metadata change的时间"
   ]
  },
  {
   "cell_type": "code",
   "execution_count": null,
   "metadata": {},
   "outputs": [],
   "source": [
    "# --------------------------is*-------------------------\n",
    "islink(sys.argv[0]) # 判断是否是符号连接文件\n",
    "cursor = sys.argv[0]\n",
    "isabs(path1), isabs(path3), abspath(path1), realpath(path1)  # 判断是否是绝对路径, abspath和realpath都是求绝对路径\n",
    "isdir(dirname(cursor))\n",
    "isfile(cursor)\n",
    "ismount('/home')"
   ]
  },
  {
   "cell_type": "code",
   "execution_count": null,
   "metadata": {},
   "outputs": [],
   "source": [
    "# --------------------------exists-------------------------\n",
    "exists(cursor)  # 判断路径/文件是否存在\n",
    "lexists(cursor)  # 判断路径/文件是否存在,如果是无效符号链接，也会返回True"
   ]
  },
  {
   "cell_type": "code",
   "execution_count": null,
   "metadata": {},
   "outputs": [],
   "source": [
    "# --------------------------expand*-------------------------\n",
    "expanduser(path2)\n",
    "expandvars('$HOME'),expandvars('${HOME}/workspace') # 展开环境变量的形式"
   ]
  },
  {
   "cell_type": "code",
   "execution_count": null,
   "metadata": {},
   "outputs": [],
   "source": [
    "# --------------------------same*-------------------------\n",
    "samefile(cursor, cursor)  # 判断两个路径是否是指向同一个文件\n",
    "\n",
    "\n",
    "# f = open(cursor)\n",
    "sameopenfile(1, 2) # 这个用法暂时不详\n",
    "\n",
    "\n",
    "import os\n",
    "samestat(os.stat(cursor), os.stat(cursor))  # \n",
    "# samestat(os.fstat(f), os.fstat(f))\n",
    "\n"
   ]
  },
  {
   "cell_type": "code",
   "execution_count": null,
   "metadata": {},
   "outputs": [],
   "source": [
    "# 这里是该模块中的一些常量、变量\n",
    "\n",
    "abspath(curdir)\n",
    "abspath(pardir)\n",
    "\n",
    "extsep = '.'\n",
    "sep = '\\\\'\n",
    "pathsep = ';'\n",
    "altsep = '/'\n",
    "defpath = '.;C:\\\\bin'\n",
    "devnull = 'nul'"
   ]
  },
  {
   "cell_type": "code",
   "execution_count": null,
   "metadata": {},
   "outputs": [],
   "source": [
    "supports_unicode_filenames  # 是否支持unicode编码文件，windows支持unicode\n",
    "\n",
    "# 源码如下\n",
    "import sys\n",
    "supports_unicode_filenames = (hasattr(sys, \"getwindowsversion\") and\n",
    "                              sys.getwindowsversion()[3] >= 2)"
   ]
  },
  {
   "cell_type": "code",
   "execution_count": null,
   "metadata": {},
   "outputs": [],
   "source": [
    "cursor = sys.argv[0]\n",
    "cursor\n",
    "relpath(cursor)  # 返回相对路径"
   ]
  }
 ],
 "metadata": {
  "kernelspec": {
   "display_name": "Python 3",
   "language": "python",
   "name": "python3"
  },
  "language_info": {
   "codemirror_mode": {
    "name": "ipython",
    "version": 3
   },
   "file_extension": ".py",
   "mimetype": "text/x-python",
   "name": "python",
   "nbconvert_exporter": "python",
   "pygments_lexer": "ipython3",
   "version": "3.6.8"
  },
  "pycharm": {
   "stem_cell": {
    "cell_type": "raw",
    "metadata": {
     "collapsed": false
    },
    "source": []
   }
  }
 },
 "nbformat": 4,
 "nbformat_minor": 4
}
